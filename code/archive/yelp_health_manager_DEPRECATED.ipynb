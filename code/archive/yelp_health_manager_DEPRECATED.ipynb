{
 "cells": [
  {
   "cell_type": "markdown",
   "metadata": {},
   "source": [
    "# Yelp Manager Program\n",
    "* EC2 management:\n",
    "    * Launch, start, stop, etc.\n",
    "* Data Collection:"
   ]
  },
  {
   "cell_type": "code",
   "execution_count": 1,
   "metadata": {},
   "outputs": [],
   "source": [
    "# Modules\n",
    "import boto3\n",
    "\n",
    "import pandas as pd\n",
    "import math\n",
    "import numpy as np\n",
    "import scipy as sp\n",
    "\n",
    "import os\n",
    "import sys\n",
    "import pytz\n",
    "import time\n",
    "from datetime import datetime\n",
    "from time import gmtime, strftime\n",
    "\n",
    "import glob\n",
    "import zipfile\n",
    "import gzip\n",
    "import shutil\n",
    "import re\n",
    "import json\n",
    "from json import JSONDecoder, JSONDecodeError\n",
    "from collections import defaultdict\n",
    "\n",
    "# Pandas view options\n",
    "pd.set_option('display.max_columns', 100)\n",
    "pd.set_option('display.max_rows', 200)\n",
    "pd.set_option('precision', 4)"
   ]
  },
  {
   "cell_type": "markdown",
   "metadata": {},
   "source": [
    "## Program Parameters"
   ]
  },
  {
   "cell_type": "code",
   "execution_count": 2,
   "metadata": {},
   "outputs": [],
   "source": [
    "# Path parameters"
   ]
  },
  {
   "cell_type": "code",
   "execution_count": 3,
   "metadata": {},
   "outputs": [],
   "source": [
    "# Access parameters\n",
    "ACCESS_KEY_ID = 'REDACTED'\n",
    "SECRET_ACCESS_KEY = 'REDACTED'\n",
    "REGION = 'us-east-2'"
   ]
  },
  {
   "cell_type": "code",
   "execution_count": 4,
   "metadata": {},
   "outputs": [],
   "source": [
    "# Resource parameters\n",
    "MANAGER_ID = 'REDACTED'\n",
    "\n",
    "HOMEPAGE = 'www.cdhanalytics.com'\n",
    "HOSTED_ZONE_ID = 'REDACTED'\n",
    "\n",
    "DNS_WAIT = 6\n",
    "DNS_MAX_ATTEMPTS = 10"
   ]
  },
  {
   "cell_type": "markdown",
   "metadata": {},
   "source": [
    "## Functions"
   ]
  },
  {
   "cell_type": "code",
   "execution_count": 18,
   "metadata": {},
   "outputs": [],
   "source": [
    "def resource_init():\n",
    "    success=1\n",
    "    resources=dict()\n",
    "    \n",
    "    try:\n",
    "        # EC2 Manager\n",
    "        resources['ec2'] = boto3.resource('ec2')\n",
    "        resources['manager'] = resources['ec2'].Instance(MANAGER_ID)\n",
    "        resources['manager_state'] = resources['manager'].state['Code']\n",
    "        resources['manager_ip'] = resources['manager'].public_ip_address\n",
    "\n",
    "        # Route53\n",
    "        resources['route53_client'] = boto3.client('route53')\n",
    "        resources['route53_records'] = resources['route53_client'].list_resource_record_sets(HostedZoneId=HOSTED_ZONE_ID, StartRecordName=HOMEPAGE, MaxItems='1')\n",
    "        resources['route53_record_ip'] = resources['route53_records']['ResourceRecordSets'][0]['ResourceRecords'][0]['Value']\n",
    "    except:\n",
    "        print('There was a problem accessing AWS resources!')\n",
    "        success=0\n",
    "\n",
    "    return success,resources"
   ]
  },
  {
   "cell_type": "code",
   "execution_count": 19,
   "metadata": {},
   "outputs": [],
   "source": [
    "def update_dns_records(manager_ip, route53_client):\n",
    "    ChangeBatch={\n",
    "    \"Comment\": \"Automatic DNS update\",\n",
    "    \"Changes\": [{\n",
    "        \"Action\": \"UPSERT\",\n",
    "        \"ResourceRecordSet\": {\n",
    "            \"Name\": HOMEPAGE,\n",
    "            \"Type\": \"A\",\n",
    "            \"TTL\": 60,\n",
    "            \"ResourceRecords\": [{\"Value\": manager_ip}]}}]}\n",
    "    \n",
    "    response = route53_client.change_resource_record_sets(HostedZoneId=HOSTED_ZONE_ID,ChangeBatch=ChangeBatch)\n",
    "    return response"
   ]
  },
  {
   "cell_type": "markdown",
   "metadata": {},
   "source": [
    "## Dynamic DNS"
   ]
  },
  {
   "cell_type": "code",
   "execution_count": 45,
   "metadata": {},
   "outputs": [],
   "source": [
    "success,resources = resource_init()\n",
    "\n",
    "if success==1:\n",
    "    ec2=resources['ec2']\n",
    "    manager=resources['manager']\n",
    "    manager_ip=resources['manager_ip']\n",
    "    route53_client=resources['route53_client']\n",
    "    route53_records=resources['route53_records']\n",
    "    route53_record_ip=resources['route53_record_ip']"
   ]
  },
  {
   "cell_type": "code",
   "execution_count": 35,
   "metadata": {},
   "outputs": [
    {
     "name": "stdout",
     "output_type": "stream",
     "text": [
      "Submitting DNS record change request...\n",
      "Waiting for DNS record to update...\n",
      "Waiting for DNS record to update...\n",
      "Waiting for DNS record to update...\n",
      "Waiting for DNS record to update...\n",
      "Waiting for DNS record to update...\n",
      "Waiting for DNS record to update...\n",
      "Waiting for DNS record to update...\n",
      "Waiting for DNS record to update...\n",
      "Waiting for DNS record to update...\n",
      "Waiting for DNS record to update...\n",
      "DNS record change successful! Now exiting.\n"
     ]
    }
   ],
   "source": [
    "# Check if op addresses match\n",
    "if route53_record_ip != manager_ip:\n",
    "    print('Submitting DNS record change request...')\n",
    "    change_response = update_dns_records(manager_ip, route53_client)\n",
    "    change_id = change_response['ChangeInfo']['Id']\n",
    "    change_status = change_response['ChangeInfo']['Status']\n",
    "    attempts = 0\n",
    "    while change_status != 'INSYNC' or attempts < DNS_MAX_ATTEMPTS:\n",
    "        print('Waiting for DNS record to update...')\n",
    "        change_status = route53_client.get_change(Id=change_id)['ChangeInfo']['Status']\n",
    "        time.sleep(DNS_WAIT)\n",
    "        attempts += 1\n",
    "        \n",
    "    # Check if record was updated\n",
    "    if change_status == 'INSYNC':\n",
    "        #success,resources = resource_init()\n",
    "        print('DNS record change successful! Now exiting.')\n",
    "    else:\n",
    "        print('Max attempts reached - DNS record update failed! Now exiting.')\n"
   ]
  },
  {
   "cell_type": "code",
   "execution_count": 46,
   "metadata": {},
   "outputs": [
    {
     "name": "stdout",
     "output_type": "stream",
     "text": [
      "18.223.160.164\n",
      "18.223.160.164\n"
     ]
    }
   ],
   "source": [
    "print(manager_ip)\n",
    "print(route53_record_ip)"
   ]
  },
  {
   "cell_type": "code",
   "execution_count": null,
   "metadata": {},
   "outputs": [],
   "source": []
  },
  {
   "cell_type": "code",
   "execution_count": null,
   "metadata": {},
   "outputs": [],
   "source": []
  },
  {
   "cell_type": "code",
   "execution_count": null,
   "metadata": {},
   "outputs": [],
   "source": []
  },
  {
   "cell_type": "code",
   "execution_count": null,
   "metadata": {},
   "outputs": [],
   "source": []
  },
  {
   "cell_type": "code",
   "execution_count": null,
   "metadata": {},
   "outputs": [],
   "source": []
  },
  {
   "cell_type": "code",
   "execution_count": null,
   "metadata": {},
   "outputs": [],
   "source": []
  },
  {
   "cell_type": "markdown",
   "metadata": {},
   "source": [
    "## Resource Management"
   ]
  },
  {
   "cell_type": "markdown",
   "metadata": {},
   "source": [
    "### EC2"
   ]
  },
  {
   "cell_type": "code",
   "execution_count": 45,
   "metadata": {},
   "outputs": [],
   "source": [
    "import boto3\n",
    "ec2 = boto3.resource('ec2')"
   ]
  },
  {
   "cell_type": "code",
   "execution_count": 46,
   "metadata": {},
   "outputs": [
    {
     "data": {
      "text/plain": [
       "[ec2.Instance(id='i-08ef7be7a1c5ae1a4'),\n",
       " ec2.Instance(id='i-00cfae34e03f23e3b'),\n",
       " ec2.Instance(id='i-056e31bc3b07238b3')]"
      ]
     },
     "execution_count": 46,
     "metadata": {},
     "output_type": "execute_result"
    }
   ],
   "source": [
    "list(ec2.instances.all())"
   ]
  },
  {
   "cell_type": "code",
   "execution_count": 41,
   "metadata": {},
   "outputs": [
    {
     "data": {
      "text/plain": [
       "[]"
      ]
     },
     "execution_count": 41,
     "metadata": {},
     "output_type": "execute_result"
    }
   ],
   "source": [
    "ec2.meta.client.describe_instance_status()['InstanceStatuses']"
   ]
  },
  {
   "cell_type": "code",
   "execution_count": null,
   "metadata": {},
   "outputs": [],
   "source": [
    "instance = ec2.create_instances(\n",
    "    BlockDeviceMappings=[\n",
    "        {\n",
    "            'DeviceName': 'string',\n",
    "            'VirtualName': 'string',\n",
    "            'Ebs': {\n",
    "                'DeleteOnTermination': True|False,\n",
    "                'Iops': 123,\n",
    "                'SnapshotId': 'string',\n",
    "                'VolumeSize': 123,\n",
    "                'VolumeType': 'standard'|'io1'|'gp2'|'sc1'|'st1',\n",
    "                'Encrypted': True|False,\n",
    "                'KmsKeyId': 'string'\n",
    "            },\n",
    "            'NoDevice': 'string'\n",
    "        },\n",
    "    ],\n",
    "    ImageId='string',\n",
    "    InstanceType='t1.micro'|'t2.nano'|'t2.micro'|'t2.small'|'t2.medium'|'t2.large'|'t2.xlarge'|'t2.2xlarge'|'t3.nano'|'t3.micro'|'t3.small'|'t3.medium'|'t3.large'|'t3.xlarge'|'t3.2xlarge'|'t3a.nano'|'t3a.micro'|'t3a.small'|'t3a.medium'|'t3a.large'|'t3a.xlarge'|'t3a.2xlarge'|'m1.small'|'m1.medium'|'m1.large'|'m1.xlarge'|'m3.medium'|'m3.large'|'m3.xlarge'|'m3.2xlarge'|'m4.large'|'m4.xlarge'|'m4.2xlarge'|'m4.4xlarge'|'m4.10xlarge'|'m4.16xlarge'|'m2.xlarge'|'m2.2xlarge'|'m2.4xlarge'|'cr1.8xlarge'|'r3.large'|'r3.xlarge'|'r3.2xlarge'|'r3.4xlarge'|'r3.8xlarge'|'r4.large'|'r4.xlarge'|'r4.2xlarge'|'r4.4xlarge'|'r4.8xlarge'|'r4.16xlarge'|'r5.large'|'r5.xlarge'|'r5.2xlarge'|'r5.4xlarge'|'r5.8xlarge'|'r5.12xlarge'|'r5.16xlarge'|'r5.24xlarge'|'r5.metal'|'r5a.large'|'r5a.xlarge'|'r5a.2xlarge'|'r5a.4xlarge'|'r5a.8xlarge'|'r5a.12xlarge'|'r5a.16xlarge'|'r5a.24xlarge'|'r5d.large'|'r5d.xlarge'|'r5d.2xlarge'|'r5d.4xlarge'|'r5d.8xlarge'|'r5d.12xlarge'|'r5d.16xlarge'|'r5d.24xlarge'|'r5d.metal'|'r5ad.large'|'r5ad.xlarge'|'r5ad.2xlarge'|'r5ad.4xlarge'|'r5ad.8xlarge'|'r5ad.12xlarge'|'r5ad.16xlarge'|'r5ad.24xlarge'|'x1.16xlarge'|'x1.32xlarge'|'x1e.xlarge'|'x1e.2xlarge'|'x1e.4xlarge'|'x1e.8xlarge'|'x1e.16xlarge'|'x1e.32xlarge'|'i2.xlarge'|'i2.2xlarge'|'i2.4xlarge'|'i2.8xlarge'|'i3.large'|'i3.xlarge'|'i3.2xlarge'|'i3.4xlarge'|'i3.8xlarge'|'i3.16xlarge'|'i3.metal'|'i3en.large'|'i3en.xlarge'|'i3en.2xlarge'|'i3en.3xlarge'|'i3en.6xlarge'|'i3en.12xlarge'|'i3en.24xlarge'|'i3en.metal'|'hi1.4xlarge'|'hs1.8xlarge'|'c1.medium'|'c1.xlarge'|'c3.large'|'c3.xlarge'|'c3.2xlarge'|'c3.4xlarge'|'c3.8xlarge'|'c4.large'|'c4.xlarge'|'c4.2xlarge'|'c4.4xlarge'|'c4.8xlarge'|'c5.large'|'c5.xlarge'|'c5.2xlarge'|'c5.4xlarge'|'c5.9xlarge'|'c5.12xlarge'|'c5.18xlarge'|'c5.24xlarge'|'c5.metal'|'c5d.large'|'c5d.xlarge'|'c5d.2xlarge'|'c5d.4xlarge'|'c5d.9xlarge'|'c5d.18xlarge'|'c5n.large'|'c5n.xlarge'|'c5n.2xlarge'|'c5n.4xlarge'|'c5n.9xlarge'|'c5n.18xlarge'|'cc1.4xlarge'|'cc2.8xlarge'|'g2.2xlarge'|'g2.8xlarge'|'g3.4xlarge'|'g3.8xlarge'|'g3.16xlarge'|'g3s.xlarge'|'cg1.4xlarge'|'p2.xlarge'|'p2.8xlarge'|'p2.16xlarge'|'p3.2xlarge'|'p3.8xlarge'|'p3.16xlarge'|'p3dn.24xlarge'|'d2.xlarge'|'d2.2xlarge'|'d2.4xlarge'|'d2.8xlarge'|'f1.2xlarge'|'f1.4xlarge'|'f1.16xlarge'|'m5.large'|'m5.xlarge'|'m5.2xlarge'|'m5.4xlarge'|'m5.8xlarge'|'m5.12xlarge'|'m5.16xlarge'|'m5.24xlarge'|'m5.metal'|'m5a.large'|'m5a.xlarge'|'m5a.2xlarge'|'m5a.4xlarge'|'m5a.8xlarge'|'m5a.12xlarge'|'m5a.16xlarge'|'m5a.24xlarge'|'m5d.large'|'m5d.xlarge'|'m5d.2xlarge'|'m5d.4xlarge'|'m5d.8xlarge'|'m5d.12xlarge'|'m5d.16xlarge'|'m5d.24xlarge'|'m5d.metal'|'m5ad.large'|'m5ad.xlarge'|'m5ad.2xlarge'|'m5ad.4xlarge'|'m5ad.8xlarge'|'m5ad.12xlarge'|'m5ad.16xlarge'|'m5ad.24xlarge'|'h1.2xlarge'|'h1.4xlarge'|'h1.8xlarge'|'h1.16xlarge'|'z1d.large'|'z1d.xlarge'|'z1d.2xlarge'|'z1d.3xlarge'|'z1d.6xlarge'|'z1d.12xlarge'|'z1d.metal'|'u-6tb1.metal'|'u-9tb1.metal'|'u-12tb1.metal'|'a1.medium'|'a1.large'|'a1.xlarge'|'a1.2xlarge'|'a1.4xlarge',\n",
    "    Ipv6AddressCount=123,\n",
    "    Ipv6Addresses=[\n",
    "        {\n",
    "            'Ipv6Address': 'string'\n",
    "        },\n",
    "    ],\n",
    "    KernelId='string',\n",
    "    KeyName='string',\n",
    "    MaxCount=123,\n",
    "    MinCount=123,\n",
    "    Monitoring={\n",
    "        'Enabled': True|False\n",
    "    },\n",
    "    Placement={\n",
    "        'AvailabilityZone': 'string',\n",
    "        'Affinity': 'string',\n",
    "        'GroupName': 'string',\n",
    "        'PartitionNumber': 123,\n",
    "        'HostId': 'string',\n",
    "        'Tenancy': 'default'|'dedicated'|'host',\n",
    "        'SpreadDomain': 'string'\n",
    "    },\n",
    "    RamdiskId='string',\n",
    "    SecurityGroupIds=[\n",
    "        'string',\n",
    "    ],\n",
    "    SecurityGroups=[\n",
    "        'string',\n",
    "    ],\n",
    "    SubnetId='string',\n",
    "    UserData='string',\n",
    "    AdditionalInfo='string',\n",
    "    ClientToken='string',\n",
    "    DisableApiTermination=True|False,\n",
    "    DryRun=True|False,\n",
    "    EbsOptimized=True|False,\n",
    "    IamInstanceProfile={\n",
    "        'Arn': 'string',\n",
    "        'Name': 'string'\n",
    "    },\n",
    "    InstanceInitiatedShutdownBehavior='stop'|'terminate',\n",
    "    NetworkInterfaces=[\n",
    "        {\n",
    "            'AssociatePublicIpAddress': True|False,\n",
    "            'DeleteOnTermination': True|False,\n",
    "            'Description': 'string',\n",
    "            'DeviceIndex': 123,\n",
    "            'Groups': [\n",
    "                'string',\n",
    "            ],\n",
    "            'Ipv6AddressCount': 123,\n",
    "            'Ipv6Addresses': [\n",
    "                {\n",
    "                    'Ipv6Address': 'string'\n",
    "                },\n",
    "            ],\n",
    "            'NetworkInterfaceId': 'string',\n",
    "            'PrivateIpAddress': 'string',\n",
    "            'PrivateIpAddresses': [\n",
    "                {\n",
    "                    'Primary': True|False,\n",
    "                    'PrivateIpAddress': 'string'\n",
    "                },\n",
    "            ],\n",
    "            'SecondaryPrivateIpAddressCount': 123,\n",
    "            'SubnetId': 'string',\n",
    "            'InterfaceType': 'string'\n",
    "        },\n",
    "    ],\n",
    "    PrivateIpAddress='string',\n",
    "    ElasticGpuSpecification=[\n",
    "        {\n",
    "            'Type': 'string'\n",
    "        },\n",
    "    ],\n",
    "    ElasticInferenceAccelerators=[\n",
    "        {\n",
    "            'Type': 'string'\n",
    "        },\n",
    "    ],\n",
    "    TagSpecifications=[\n",
    "        {\n",
    "            'ResourceType': 'client-vpn-endpoint'|'customer-gateway'|'dedicated-host'|'dhcp-options'|'elastic-ip'|'fleet'|'fpga-image'|'host-reservation'|'image'|'instance'|'internet-gateway'|'launch-template'|'natgateway'|'network-acl'|'network-interface'|'reserved-instances'|'route-table'|'security-group'|'snapshot'|'spot-instances-request'|'subnet'|'traffic-mirror-filter'|'traffic-mirror-session'|'traffic-mirror-target'|'transit-gateway'|'transit-gateway-attachment'|'transit-gateway-route-table'|'volume'|'vpc'|'vpc-peering-connection'|'vpn-connection'|'vpn-gateway',\n",
    "            'Tags': [\n",
    "                {\n",
    "                    'Key': 'string',\n",
    "                    'Value': 'string'\n",
    "                },\n",
    "            ]\n",
    "        },\n",
    "    ],\n",
    "    LaunchTemplate={\n",
    "        'LaunchTemplateId': 'string',\n",
    "        'LaunchTemplateName': 'string',\n",
    "        'Version': 'string'\n",
    "    },\n",
    "    InstanceMarketOptions={\n",
    "        'MarketType': 'spot',\n",
    "        'SpotOptions': {\n",
    "            'MaxPrice': 'string',\n",
    "            'SpotInstanceType': 'one-time'|'persistent',\n",
    "            'BlockDurationMinutes': 123,\n",
    "            'ValidUntil': datetime(2015, 1, 1),\n",
    "            'InstanceInterruptionBehavior': 'hibernate'|'stop'|'terminate'\n",
    "        }\n",
    "    },\n",
    "    CreditSpecification={\n",
    "        'CpuCredits': 'string'\n",
    "    },\n",
    "    CpuOptions={\n",
    "        'CoreCount': 123,\n",
    "        'ThreadsPerCore': 123\n",
    "    },\n",
    "    CapacityReservationSpecification={\n",
    "        'CapacityReservationPreference': 'open'|'none',\n",
    "        'CapacityReservationTarget': {\n",
    "            'CapacityReservationId': 'string'\n",
    "        }\n",
    "    },\n",
    "    HibernationOptions={\n",
    "        'Configured': True|False\n",
    "    },\n",
    "    LicenseSpecifications=[\n",
    "        {\n",
    "            'LicenseConfigurationArn': 'string'\n",
    "        },\n",
    "    ]\n",
    ")"
   ]
  },
  {
   "cell_type": "code",
   "execution_count": null,
   "metadata": {},
   "outputs": [],
   "source": []
  },
  {
   "cell_type": "code",
   "execution_count": 5,
   "metadata": {},
   "outputs": [],
   "source": [
    "# create a new EC2 instance\n",
    "instances = ec2.create_instances(\n",
    "    ImageId='ami-0a7079a4a35da2ff5',\n",
    "    MinCount=1,\n",
    "    MaxCount=1,\n",
    "    InstanceType='t2.micro',\n",
    "    KeyName='AWS_yelp_analysis')"
   ]
  },
  {
   "cell_type": "code",
   "execution_count": 17,
   "metadata": {},
   "outputs": [
    {
     "name": "stdout",
     "output_type": "stream",
     "text": [
      "ec2.Instance(id='i-098e417a37ef015f9')\n",
      "ami-0a7079a4a35da2ff5\n"
     ]
    }
   ],
   "source": [
    "print(instances[0])\n",
    "print(instances[0].image_id)"
   ]
  },
  {
   "cell_type": "code",
   "execution_count": 22,
   "metadata": {},
   "outputs": [],
   "source": [
    "result = instances[0].terminate()"
   ]
  },
  {
   "cell_type": "code",
   "execution_count": 23,
   "metadata": {},
   "outputs": [
    {
     "data": {
      "text/plain": [
       "{'TerminatingInstances': [{'CurrentState': {'Code': 32,\n",
       "    'Name': 'shutting-down'},\n",
       "   'InstanceId': 'i-098e417a37ef015f9',\n",
       "   'PreviousState': {'Code': 16, 'Name': 'running'}}],\n",
       " 'ResponseMetadata': {'RequestId': '53b4a82d-732d-45b4-9c7e-3a0143504584',\n",
       "  'HTTPStatusCode': 200,\n",
       "  'HTTPHeaders': {'content-type': 'text/xml;charset=UTF-8',\n",
       "   'transfer-encoding': 'chunked',\n",
       "   'vary': 'accept-encoding',\n",
       "   'date': 'Wed, 04 Sep 2019 20:26:23 GMT',\n",
       "   'server': 'AmazonEC2'},\n",
       "  'RetryAttempts': 0}}"
      ]
     },
     "execution_count": 23,
     "metadata": {},
     "output_type": "execute_result"
    }
   ],
   "source": [
    "result"
   ]
  },
  {
   "cell_type": "code",
   "execution_count": null,
   "metadata": {},
   "outputs": [],
   "source": []
  },
  {
   "cell_type": "markdown",
   "metadata": {},
   "source": [
    "### Route 53"
   ]
  },
  {
   "cell_type": "code",
   "execution_count": 24,
   "metadata": {},
   "outputs": [],
   "source": [
    "client = boto3.client('route53')\n",
    "waiter = client.get_waiter('resource_record_sets_changed')"
   ]
  },
  {
   "cell_type": "code",
   "execution_count": null,
   "metadata": {},
   "outputs": [],
   "source": [
    "response = client.change_resource_record_sets(\n",
    "    HostedZoneId='string',\n",
    "    ChangeBatch={\n",
    "        'Comment': 'string',\n",
    "        'Changes': [\n",
    "            {\n",
    "                'Action': 'CREATE'|'DELETE'|'UPSERT',\n",
    "                'ResourceRecordSet': {\n",
    "                    'Name': 'string',\n",
    "                    'Type': 'SOA'|'A'|'TXT'|'NS'|'CNAME'|'MX'|'NAPTR'|'PTR'|'SRV'|'SPF'|'AAAA'|'CAA',\n",
    "                    'SetIdentifier': 'string',\n",
    "                    'Weight': 123,\n",
    "                    'Region': 'us-east-1'|'us-east-2'|'us-west-1'|'us-west-2'|'ca-central-1'|'eu-west-1'|'eu-west-2'|'eu-west-3'|'eu-central-1'|'ap-southeast-1'|'ap-southeast-2'|'ap-northeast-1'|'ap-northeast-2'|'ap-northeast-3'|'eu-north-1'|'sa-east-1'|'cn-north-1'|'cn-northwest-1'|'ap-east-1'|'me-south-1'|'ap-south-1',\n",
    "                    'GeoLocation': {\n",
    "                        'ContinentCode': 'string',\n",
    "                        'CountryCode': 'string',\n",
    "                        'SubdivisionCode': 'string'\n",
    "                    },\n",
    "                    'Failover': 'PRIMARY'|'SECONDARY',\n",
    "                    'MultiValueAnswer': True|False,\n",
    "                    'TTL': 123,\n",
    "                    'ResourceRecords': [\n",
    "                        {\n",
    "                            'Value': 'string'\n",
    "                        },\n",
    "                    ],\n",
    "                    'AliasTarget': {\n",
    "                        'HostedZoneId': 'string',\n",
    "                        'DNSName': 'string',\n",
    "                        'EvaluateTargetHealth': True|False\n",
    "                    },\n",
    "                    'HealthCheckId': 'string',\n",
    "                    'TrafficPolicyInstanceId': 'string'\n",
    "                }\n",
    "            },\n",
    "        ]\n",
    "    }\n",
    ")"
   ]
  },
  {
   "cell_type": "code",
   "execution_count": null,
   "metadata": {},
   "outputs": [],
   "source": []
  },
  {
   "cell_type": "code",
   "execution_count": null,
   "metadata": {},
   "outputs": [],
   "source": []
  },
  {
   "cell_type": "code",
   "execution_count": null,
   "metadata": {},
   "outputs": [],
   "source": []
  },
  {
   "cell_type": "code",
   "execution_count": null,
   "metadata": {},
   "outputs": [],
   "source": []
  },
  {
   "cell_type": "markdown",
   "metadata": {},
   "source": [
    "### Change S3 Storage Class - PENDING"
   ]
  },
  {
   "cell_type": "code",
   "execution_count": null,
   "metadata": {},
   "outputs": [],
   "source": [
    "# UNTESTED - This is one possible way to change S3 storage class - UNTESTED #\n",
    "import boto3\n",
    "\n",
    "s3 = boto3.client('s3')\n",
    "\n",
    "copy_source = {\n",
    "    'Bucket': 'mybucket',\n",
    "    'Key': 'mykey'\n",
    "}\n",
    "\n",
    "s3.copy(\n",
    "  copy_source, 'mybucket', 'mykey',\n",
    "  ExtraArgs = {\n",
    "    'StorageClass': 'STANDARD_IA',\n",
    "    'MetadataDirective': 'COPY'\n",
    "  }\n",
    ")"
   ]
  },
  {
   "cell_type": "code",
   "execution_count": null,
   "metadata": {},
   "outputs": [],
   "source": []
  },
  {
   "cell_type": "code",
   "execution_count": null,
   "metadata": {},
   "outputs": [],
   "source": []
  },
  {
   "cell_type": "code",
   "execution_count": null,
   "metadata": {},
   "outputs": [],
   "source": []
  },
  {
   "cell_type": "code",
   "execution_count": null,
   "metadata": {},
   "outputs": [],
   "source": []
  },
  {
   "cell_type": "markdown",
   "metadata": {},
   "source": [
    "### Delete Legacy Glacier Archives - DONE"
   ]
  },
  {
   "cell_type": "code",
   "execution_count": 50,
   "metadata": {},
   "outputs": [],
   "source": [
    "# Connect to resource and start job\n",
    "glacier = boto3.resource('glacier',region_name='us-east-1')\n",
    "vault = glacier.Vault('251131218783','yelp_zip_files')\n",
    "job = vault.initiate_inventory_retrieval()"
   ]
  },
  {
   "cell_type": "code",
   "execution_count": 109,
   "metadata": {},
   "outputs": [
    {
     "name": "stdout",
     "output_type": "stream",
     "text": [
      "Job Action: InventoryRetrieval\n",
      "Job Status: Succeeded\n"
     ]
    }
   ],
   "source": [
    "# Check job status\n",
    "job.load()\n",
    "print('Job Action:',job.action)\n",
    "print('Job Status:',job.status_code)"
   ]
  },
  {
   "cell_type": "code",
   "execution_count": 110,
   "metadata": {},
   "outputs": [],
   "source": [
    "# Get archive ids from job output\n",
    "output = job.get_output()\n",
    "inventory = output['body'].read().decode(\"utf-8\")\n",
    "inventory_json = json.loads(inventory)\n",
    "archive_ids = [item['ArchiveId'] for item in inventory_json['ArchiveList']]"
   ]
  },
  {
   "cell_type": "code",
   "execution_count": 131,
   "metadata": {},
   "outputs": [],
   "source": [
    "# Delete archives\n",
    "responses = []\n",
    "\n",
    "for idx in archive_ids:\n",
    "    response = glacier.Archive('251131218783','yelp_zip_files',idx).delete()\n",
    "    responses.append(response)"
   ]
  },
  {
   "cell_type": "code",
   "execution_count": 145,
   "metadata": {},
   "outputs": [
    {
     "name": "stdout",
     "output_type": "stream",
     "text": [
      "Number status codes: 64\n",
      "Number unique status codes: 1\n",
      "Unique status code value: 204\n"
     ]
    }
   ],
   "source": [
    "# Check delete status\n",
    "status_codes = [item['ResponseMetadata']['HTTPStatusCode'] for item in responses]\n",
    "print('Number status codes:',len(status_codes))\n",
    "print('Number unique status codes:', len(set(status_codes)))\n",
    "if len(set(status_codes))==1:\n",
    "    print('Unique status code value:', status_codes[0])"
   ]
  },
  {
   "cell_type": "code",
   "execution_count": 136,
   "metadata": {},
   "outputs": [
    {
     "data": {
      "text/plain": [
       "['K5mghNuN7M6Ya-ZicOAsxVgpmhLbhrMhJ1qFpb3lXwaq2GDAgLBUXPzD66M20SLzTuQEOswrtd7USpQi5oLOx_B7-XL1xNW3qSzWT2rvVm3cPsTLHc6YL3Csgo-ESTyO-x5CpX9nTw',\n",
       " 'FSFhqsSpV2Xy_7NaOYER_BWMFR_m6n91kqMSjTbiM6jjjN7NYs-OT2awb5DOqW8LuzGwyElG0_I7f3PfwVqqqR8rpvmvO9SfQHhvf0J67Pl19XwbOA7zChzhloxIpRrT6ef3lWjBlw',\n",
       " 'yA0jpCKAGLCldneszY_hhkzrmGKaq3qWK9mGI0L_E4JmBmdkh7HMw152oDQ_TfZ21r-glJpymr5B99_WjY_yNfPQ9EV_QRbJfl8lvKpLF36uXYFNdACdZPZs3ixyLkgoEYUisRZVeQ',\n",
       " 'bwlZ4VxYFClmCBOUJQ7yirx1aRdxSAgLeBSWldmYl7jTLrBIEJ1rYsryFHuRM-PoJwC4m9iuCzIM5KsYrgsfm13g91pQI2lbK3Tp63i-1ZpHolHhKLsXx7cxDlga9L8Dy3h8Qqv26Q',\n",
       " 'BuvznCFIsD7IZipu0IY2HRMgqtRDJz2-tpS9R_9fWlirpYBe1hUso8E705ZnxItNsnZEH4-4r8oBtNVVwm8MHXTw3NffSzyAT19UKiHyCHsqjOJkb1fDwYtj930o9BKNogCQERb2zA',\n",
       " 'SkW3Kb_PAvMljZchWZS2hnA5Z5U6Dp-joCZUVK7_jvFIxkMu4gOtM4eFRwUQny4R2eH6Zr5OddDA8-xo_bJ_mWi3nB-hnAAB42bqEUNyMqw2BBJljnIH_F0sjz9ILo6yKu8y3y5R7A',\n",
       " 'qsG7hV7-2EHeRH5j98W38gAGskV7-dX23U0E_790RcRSCa7X-bpnsyBZTucPxfvo28weUdTr-mxyxXQBg_XyzrQUSyjjVg3aulKyuabPtBS8UdKtYC9WjhjnjMft8DByNTZ6rTtMFg',\n",
       " 'pyf6yeFuuROxZwRWYqDGi8lSftYVN7lho_iUA0_KRXvxoNgm5GLj2YdekQS7E05LIdYSDJEyvSX1wxPvy0VsJUjwhsnryJOZ4eEDg2bV5ehJmtpau2cXQEKCq_KTXX_5WgHDEkDhFg',\n",
       " 'YaQomZ2Y79zHV8VzQeN4BlFNEOQiWYRuPGaaT4QLImYWgKGE0kyM4MJuy-NTmfPptmyk4eH6_hx217AD3p-cVI-uuhUG8DhMDM754hZkpEVk2hOEd0ZgEa-YbIgiaG4z1F88ad3sUQ',\n",
       " 'AflqOASu7BagEAUuHjNXqv_YBwtFF4UwHz6YUAU99bsIGBeMXKXKoVIPpQUmNuUDQ7TAsYRrkLzPR9JrYKPn6UC93g5njLWVRGNz9c2gR2XC2rZUOK8UFuTVp_URgNoRpoIz4D4GSg',\n",
       " 'N-po4_v5dSkV62sW-DwSwDtotgpa7m9szinXA_RqEO1aIPj_3LH9FlsMcBlCQ3s6iCwuxWF4eHX-O3b0R5MMe8NOQgS_yaMxc9xAxLCUCul0gnmaUsss0mWUWVWUGI1bC7MckvfRRg',\n",
       " 'KMdwL6aBm8OktVq3e7rse-oD8ggVE155oym1sxYgHJPRSXXECLPymtL9gbBs1JRT58ctgAQto25j0DpbUsAT6tAYFlPk0jnW00q6AQwU0gGL_39i_34aAWEoVK4re8AvFoFbnkdg3A',\n",
       " 'CkjwTpVl4PSDLg-cPrN5BOvAcGskjaqjT1rSlS_BRr2Gb5C0wD_k68YSzXhseZMSiTlcQ0bRyfPosEf27pgzt9wqsuxtiPWUL7YnYK6yIZFMc7U92CGfGCc_obfH6c5naAjb_9XNHw',\n",
       " '9MNfsnzcBEJIw7qMMY4vWHXQ0a7rIr061GktwwSnKgQ64124SN5qwu1g_vc0Z0GmDhk_-3yqJZBgpuOyYcFIRKYrWMzYKzJsSX22j8AC9-ZJ_s9UA0kQSsJ2q4cFTXdRE4gA9mBUzw',\n",
       " 'xFH4p7QweTcGpwZhyj-YKY1vk8YAXLvJxjCp2LZqlJNPX4Huaal40HacYt6CnmkYsmHc3whLC8HLGBna-FWSwZcytSa7R9gjPwyL9NIbU6DMdrygecy7y1QP8EykUmvG12dROmt5wg',\n",
       " 'rwSdUp6ZJR_ycuv0aI7xmRDxNdVsWlRddC6u7-HzDFAh1WymUHPCH0gm60S2wtlUcq4biTF7uJVtUtAGECM7Voql1XXzVRCEcmgIQNDz-US6zKXSBhtagyS3AUdD7_LFVz4E1gvNcQ',\n",
       " '-mwZXXvSu-alxKaebGJANeZw5gUuHqYbk2znEFTOrpaD3gpsvibUCdiPHW7u1LQ7Vowb9CAxBVyNM5VUmoqf0Uanho1rfx5QPsUD93hQK6Rn101nIeaaFsBBnvcufnfwfi-xEd70Pw',\n",
       " 'ijgi5go3tFCHBhaZiK_KYBogDCcCXY6GZptmfsgqVLMxJ2I9OYHK1sH-aY0j4tku9_6CRl8hMhc4tm3aE0DezppWQ3B6tjzKNWsb-cISOtIKntD3P_n0OYHyM2syV06eaeJzNvwRkA',\n",
       " 'XGMF8yWKPMEy9wxM9kjMHT1w7-0f0_8PqmeIWA2bdqyaUJOSIFoJpHu9PrfYr5tdKWrus6VF5M967O9Irgx2_p5mG2KZpNw5yrhmcO3xL-5RKU5mQl0F9FMCzpZD9AudQXW9t3sq9A',\n",
       " 'WFIYP8x7RQqPJpT9K7PROcURp-CV2axt81pxk60cuJZmabpU93E2z_Xg_QAdHZARcCPQsk99DcGashxbvKdK8fEs68r8zSvExhDWEpTgwWTNp9iUi4igLcO3bogbQ0offvLg7hJ3Ug',\n",
       " 'vVe4rQBSAnq8hPFoM6rWgmR_jIgXfDFN9R_q2aFhqplWl_-8ZvmU2lKrjhOHZEcMnRYl9CFWXrNgTUy-W-TiP3xqV7VRqHkJMRkj8o_msHR6osynXrlMm-dzySDCFh7Z20VtEHDYNA',\n",
       " 'YzJMY3_4HyfKiB_mjNclcNdofpBu2W6EaC7f97G2qS5aP3mIuU1ei80Z-BfOcUfJFlfbtGrzNQRjF-i-oML52CLb_wo1yJrKUzA1YdfCzQsaSkjY2XOUrVLXr38IFf9hNhVdYRR1oQ',\n",
       " 'kD7vGLrNhOd9cvwRTuRXqOGil7ZVet6Aam9Ku3kT60MOIxO0wDPzqWXX3xlhyvH_vSuM_bA-9qfxe2pGwn2CunFXWWtp2Mh3LP3fbXLAcKaQIVwFYebIEuqcWuA5NtHpAyWY0s8dCg',\n",
       " 'mxP8Sg2UNmIEW_6eEoaQ4qlblHmgJJYGc_mVPjFTetXobTsd2qZDbIUrqFXycpTW0yN0kX_55WESXlUeYpTWkzqMN_Er57X6w9lRsrJT8AYh6n_nqTeOfPcQaj2fcxMKwRfuy_OmGA',\n",
       " 'ikYOtqqMrZpw2H2aQO88x5VO2lXjztRvyKvexTvht6Vur_gBaYZ8tgNnYrrmNR-vZEXhVQsYVlC4ZSiqDCm8Yujhe-8VzzVlcR5P2J8n_ukEO5_fCf7R1c8CCAWM_MYdAwPzkvCa1w',\n",
       " '1u5ulEakVj8cdrPRItksXhF-w8TSHi8OeAbEJnQZnwAU7eG2W48JHy7e4pXCxkksFQjoqFNo2gYPXRiuveBz0WQcKnZkF99uMPXOVNln05k1xuBhLzCSWRzdo_t5TAJteQ3tnUq55Q',\n",
       " 'd-WuRNey2H9-w1omZTxZnTAfiXdr-5n7kkA3L-OT5d8_FlBescpHJDKRIohzLA9FJ8T7OafbB-s1LCRHVz5HJOR2p02rEUJ3Ptyk2azxX0azVvsRztdNft8INYdkuB4tEtZclrf83w',\n",
       " 'RoAsvT2bAT4CGKWB6C6afq4jauuSZ8Jp5SXj4jSGQohAUCEKXyDZaV0p348gjTjw0PqtgyqL3rRdZyTWsokCQzP80Jfad7sPbzGWpMmq_cEaU0WJCidC7z6Ak4IgniM9YAh_cxPlYA',\n",
       " 'qZziYH16mwUJEnG3WpZVG4tM5HJSIH3aDDNed1zCXbLhlYIFd_HN8xfOyu9qoP5RFDGZl-8XMQJBPiOyHgpzv420xSM-Zk9AtCG_jWRTrew5LneovfaQ_CMPVi8h996U5qUOg4PWAw',\n",
       " '7oA0JxeHAkR7KlLmqQohjXHouOoBSodSNUdi7SxDwMue6kuwXCOthoy0vLHUbfgDxCCP03l2dRavrY1ytg5E_cNPDp4uQDZo6eS_hBHgrX_t-PI-BLqExQcwd5Arki1COHg1ijrmjg',\n",
       " 'u5w6KFECZj2IUW9EQIKQOhHbqLCsqe5pNaPXuOOnJpQJhAdj33M8_juMrE91oS2f6zYPFXx2iwrnxAd32WmVsOQC5dhF4jCFZfhrJgo_qQKLcl8HwbTuyjNd3jlzk-YLNh8-1rv6hw',\n",
       " 'SQqBfqLZnlUdaKEH5cZphipreEffq04vEoXhFsUXzwZTk5rLmplo5V3wOHOC8cem4NRZ9x-hUfiRiwzvLq7x04WEJZildG_PP04kmFgDrt8_4nMEQIg-fMpIk_gwbewaOvo-_ZBEiA',\n",
       " 'qL3ntP0LXbPjP4bpMYcRrXuNHVE5TZrVXS5j7Scw6xQuxJApmwl5qUyuYS5JRq53z9nFfYyn6qGuFJTeH8ypy_jB16HZUX4DgVl_-569Rjh97PZCmR3oxhw4ce2udUu4ZtDJBwvuNA',\n",
       " 'GDLaJdBjyYQIHTFsNlvKkvpjycHtnwH0-4SXFgZtyHGTKV8FTuf-604Y3LYokXePHRSGz0ONyupjthzLCkV-gc2P3rY-zvznIs0blYPCr3CUk1D9ogmDxfZp3oABHre06Zng7NEL6Q',\n",
       " 'Dv8SZ-fYBIjh3t7th0hTqaa2pj7K7R4qSesMKqMye1bWPSBIgUOgt3B_al0kUUHM7A8ZJ3X3nj-706wBM_15wFhsBegrSMJBOVjLv1Batbepl85Unhp8cd0oq9jyBeMwuO3JzzW4TA',\n",
       " '_hfOUbVaejya0hYxaS1-CYp_oQJVyASQoy7C8Dsyr5vSY8QPAT25i6dvI1WTYszUHIXyKf42SBWCtrmCS_rpQrrTDHJZYImm1clTOuAqHlF17onlJVMNb7Kwi3CWiyk58jP2Zz9r8A',\n",
       " 'dyEhyUsVxSFMjpXLP4i3zl5qQ15HcS0W10lTZNuqfz9-6JvFSvf34o3QXqk6LAChGf2bvK_F0VNW-klTwiDDCPYHwUuy1dI7AsCOIoWhJciWrw9EWFLa-EWrxoO9eJOl1W3D2mPDWA',\n",
       " 'U1RIS5lXcHQYQsnpmwVHzWC3QWP2pRrvqFjtaztY5TD2FiIH8nFcmtxSwADlM7bwxB1FGJg3Y5X89pb1JbH3OSQn8pQE4lBDXr0KGVfxxVPi4yYrRNByoIteE96Grmc8enlkGMBL5w',\n",
       " 'Ojd7Ap8fZ4cGUUp9VcEkkFA3MuztvDPhTVkH3SvMQxNV9Y8aZFyeBrhvqUqugh3uOdPpQW7BDMo3eQXVsLLteOniOj53mB9-k-qRIRtOUEq1uldC9CutKFPaA8pw6akz8GJDtddaDQ',\n",
       " 'XUZyayHGaESMYWZI1519HO20zVuni1z40P_QKV8ZCs0BEcLfPda0WmBoGuUHBPHJ5iC783IAokXNkaVbTmc-60Y2hFEVBWXWCzA_cnWyqQx0OCY3FsT9U-AItC2pZArzJ0wQ2yWOeg',\n",
       " 'vkvQXT8jsM26k0QdVQjU9aivX2QhYJuPWPbGBjYCIrb1L87YKEIb1ZSnC9vnQxXM50l-WvtKrGasvdK7goA4pnA3AiF2ts7BYBKshoLY2xrdUZchFotHRYDzTr0_6e7DcaBSHjSMtA',\n",
       " 'nruk_6-jbm5oEkj7odMx6AJmP_bxLza8tjn5seVqLrSMVitoR-9Hj6XC06-WnzwaDUgr9BajwQoGL1Xp-83kWKmDKGnYYq_i4ZJUT-KBzl-bE7yBXDrx-nfXVrQGmdG2nLRAtI053A',\n",
       " 'bAQ3S-xhzR0xOonfOGflI_ydjSnYY1N_fz21KrQtMOFa5hai5Nl2OttOg0OYPD4t_--R06_Tzr3TfuXYvSpgGgHkdXpHRsjIqFmSOMLI5bNJotkxvAKYtgyBUNIXslxDDzGeGb9KPQ',\n",
       " 'sOMZ-nAdpNVB0U2v2Oy5PDmAiv7wRyU9eIVfngCxml2qz1lH7IedkVWNfgZhQKiOuPDfNi29xUEuLsUA-6YwMbxFsffMTEhV8KRbirLY-Fw64zZDsp9x1RayKg2z3T35CAWaegO8iw',\n",
       " 'Q2WdQ-iiK77_bk5Yl0gxrIaGyQ52XNc_APnPXjDGTEtgyCws2PLK65IMT31UYME_u5EsynLNnFBkDmp1YqUE-LvgsV7MoGayGWbYN_PmhNRj0wi9lpH4uhrbnv0OXPjSbLLtXI3DNg',\n",
       " '-l5UYTFaZW63kJLxCl2HTSi6ifu7qQsf2VT67jTtVj1YdQw1-dbO0eUc2rf7uPfh0tI5k45gE7GkIae0I_oiDpWStEqAy6McE5XlMJS9SGWXjVB-246I4i7JmBoQtV_AtqdZK667JA',\n",
       " 's2nhRWXzjdOQZfQcO3bWaD7QYnTdBrP5NEv6uXdHNVqYC5CieZYGqjRwaXCtGctFBckdwxEV6cRbITIsngITnCxMLZkXNyuiUiEKl4kPZxcV_7BthRajsw_fGMnmOHZ649Ky62iL5A',\n",
       " 'hHJqXdYqbjDjB4p5gP6KtugAnpJVjSalCEFKXEZwIN-wZ-8LEgA5TnJSrLH0V5PoYBvGWsWmINhzGVpOaEFFA-pNbDLE8QpTGEOL-IbL6-sr_TDjn71vkXa-BVZ7DNUUNABr7CqzaQ',\n",
       " 'ivRuOHdiBAOAKSiozpMRor2dXSz5XsD6A7vdDPtV4e_qhwf-sV0zQlVJUTLbOUZih0cL1u9PzxXTUoHu8ZwzsS-RHvnxgH_fU-YC8tjSAvl2qHfgpDTZbTZR1R4IIlJhO3jVxjWbbg',\n",
       " 'y_J9kLHDAfbhqm-o0of39OSNfazAZQVhVpbiu6IsrJQzOqeb5RRsr5polHcBlVAre3MQ2fPBQcSm7m8WSYJ7ppTeTwYkTsBYivKwxPjdoE5Tzi2mheE0tULftak1bYqpVLMMmrAFSA',\n",
       " 'qaqU43AKHZ-C9Ep6dqiOdzL9fvT1rnb4YcrVaZi-9NaLQ-IgwEdcqQR4HGrgdM2-8phjzTfKwhCNjmdDm_PHH8VvJ7m0LegKJ0oeQGYEIVx2ve3BCKNCtx1KvLujJKry8HC_7uf0HQ',\n",
       " '9Gg1rDmwhAWMQbF1kYgzC_RDREp6lXutIm5ODmplpX3EFcMKr9jIifxq6SNERbmKWUM6OJ4h4OXITtDv3sGZFl3svOX2dJ8lgfCz4VanfqQndEpim8GkgT2LjTuWIJ1s5wtwW_W8jA',\n",
       " 'jddzRUJnnl8zMoU_4dT4iS63xqZkiUzSU38jDiDQfrdLd2t3tyetvrMHoC4k-JYUUnPilNcE06dwFa7pQR-cUhZZeS-fh37sfg5pqBaZc3Mutg8Uy0_Z0wIsoz4AV9SJg_aNoUy2gg',\n",
       " 'MEcAofRY2b302nxVRN09qdnT8mBM9EhSC1wP47ZjnTeIIZcXhApAiMr5y2Q6zU8Ys29-m6cnPAaJhpNnPr9qzvSv3JEZH8_CBDM8sYWp0I9t-jojk2qmF2Gb-L37qI3bCENzMaK1Ww',\n",
       " 'bgpGxi7gaZl5rc6pYIW3kTpfZK1EBL_RPTbNMinNTXUMbdPvd3w3I8bi-ypsgxvyg2s3B8ZnykZgbhgmgywfg5Md1NZwpyIT3Qm8D8tjcIEB7D2tU_4wYA2Z-DzF_A2QKcjUirKb7A',\n",
       " 'UDqzPj7cOZK81-AM-4Jf1Gu5UOPXa_lyklRL1BOiK3nyI2xZldeKD9C1PeBoPhmku50XjflvlSaxWdj9TqA6lhPMlrfDuEvGswv8tNVoCB15STv5ZLke5UrobIuVBqJXFt926Qh_kg',\n",
       " 'J7Q_6BnMKGtGUNOizmSdhlov1K0R1kMZmVcWFC2Fhp9XOaqQ3U6SBmr8-XH6_6lAT5Y5es-PE0mlw1XSZUEGfAWIEy1d38lrTenkz77WTToIsHPHBHt8oCZP83HJlEqkf7edCHK2tA',\n",
       " 'Jmwmee_PJLSiSvuQooVVzez_r78IyDmQkFf0xkFYNoklKR002iFrNaJft0bTOBWFhmEraTLE3YhWrYdJn4yDWORYjruNxpvA9-srv4CY1ggP_X0sfrzvp4FlTl2xGQCGHxNqoaqK-A',\n",
       " 'qHpu7ORZlPOh_KdppH_ulVzsQoHBTCfxHCgX5Q2O3Nr1IuvE7RCF2GCmE9VaV8yzyfSJo1Am6DLzL0Kqfdrirw9CohrKeQdo6qQXV-7-RlJ0Ci6qDmio04uVlTxWRi92TgcZGt9HzA',\n",
       " '8-SGzo4TYuApBG5KeTumL8Z1QMDwAF0gjEf3GiGB9YZ8HOchhgtMbf180igwmTOSaJVNS_EzlKEu41TVyBA9nmJzr40vSJK5pw2nOCHLZpqozfvU-AIF4qiQXOWFIVdg7gnOs5AgvA',\n",
       " 'QDoWAXS-8bW390IZ_LPb1HH5BJtJUGQl_-SYXfrDWJfVf2FQt4pX7clkyF4g2NP3m6Yg2Ic9F6tE9aymaBS3asdsmEfJd9d0y_HD2ZeO-G5Xf4S5d2ienS66jDx_wSxHF9zjF3Pzrg',\n",
       " '8kW_YbKrK928Mw-YO6nGcsHPscCaHYWyiL7kcRZssBRp-Jzwi3ii_5tdf3OhpSpGi5X-6WTvfK6mZMaUIgSVGIyJg9_gTLGB0R2Pq9ThIVV3sXyB-pwEygLyI9kUboby2csUQJX57g',\n",
       " '3ZHZtJXO1NIqPmaGjCDYHcfEya-VTL87UyUzlflXrVbViZ0o-mUY6jjMhoEdKKPRXvC1kPnrN2H_APcO5GquUCWlEe3rzQR5pWrq_0oyZjTN08hlhNzSEG-UhuuhRp6B7KqoQqDl4g',\n",
       " 'kOKou2i2TFmeiEvRfbJSMunMBzS2m9wRTFsfPIPykg3puYJLFWhQr-XG9LsR38r3IqcUMPNy1atcGZa9kfVwsdJ27-wQ2CGq5Nm_Nw3wS2cqF782N1ZhrxbpfOUrZ5GTzrpl1TxJmg']"
      ]
     },
     "execution_count": 136,
     "metadata": {},
     "output_type": "execute_result"
    }
   ],
   "source": [
    "# Display archive ids, just in case...\n",
    "archive_ids"
   ]
  },
  {
   "cell_type": "code",
   "execution_count": null,
   "metadata": {},
   "outputs": [],
   "source": []
  }
 ],
 "metadata": {
  "kernelspec": {
   "display_name": "Python [conda env:base] *",
   "language": "python",
   "name": "conda-base-py"
  },
  "language_info": {
   "codemirror_mode": {
    "name": "ipython",
    "version": 3
   },
   "file_extension": ".py",
   "mimetype": "text/x-python",
   "name": "python",
   "nbconvert_exporter": "python",
   "pygments_lexer": "ipython3",
   "version": "3.11.8"
  }
 },
 "nbformat": 4,
 "nbformat_minor": 4
}
